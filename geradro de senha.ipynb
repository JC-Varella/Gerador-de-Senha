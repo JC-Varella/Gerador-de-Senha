{
 "cells": [
  {
   "cell_type": "code",
   "execution_count": 18,
   "metadata": {},
   "outputs": [
    {
     "name": "stdout",
     "output_type": "stream",
     "text": [
      "Gh<\u0002Gq\n"
     ]
    }
   ],
   "source": [
    "import random\n",
    "\n",
    "\n",
    "def shuffle(string):\n",
    "  tempList = list(string)\n",
    "  random.shuffle(tempList)\n",
    "  return ''.join(tempList)\n",
    "\n",
    "\n",
    "uppercaseLetter1=chr(random.randint(65,90)) #Generate a random Uppercase letter (based on ASCII code)\n",
    "uppercaseLetter2=chr(random.randint(65,90)) #Generate a random Uppercase letter (based on ASCII code)\n",
    "lowercaseLetter1=chr(random.randint(97,122))#Generate a random Uppercase letter (based on ASCII code)\n",
    "lowercaseLetter2=chr(random.randint(97,122))#Generate a random Uppercase letter (based on ASCII code)\n",
    "digit1=chr(random.randint(0,9))#Generate a random Uppercase letter (based on ASCII code)\n",
    "digit2=chr(random.randint(32,152))#Generate a random Uppercase letter (based on ASCII code)\n",
    "password = uppercaseLetter1 + uppercaseLetter2 + lowercaseLetter1 + lowercaseLetter2 + digit1 + digit2\n",
    "password = shuffle(password)\n",
    "\n",
    "\n",
    "print(password)"
   ]
  }
 ],
 "metadata": {
  "kernelspec": {
   "display_name": "Python 3.9.12 ('base')",
   "language": "python",
   "name": "python3"
  },
  "language_info": {
   "codemirror_mode": {
    "name": "ipython",
    "version": 3
   },
   "file_extension": ".py",
   "mimetype": "text/x-python",
   "name": "python",
   "nbconvert_exporter": "python",
   "pygments_lexer": "ipython3",
   "version": "3.9.12"
  },
  "orig_nbformat": 4,
  "vscode": {
   "interpreter": {
    "hash": "1e29b7c7b805413fa76b34c905cc2a9218906a6a75fd87af8238fa82cb40a572"
   }
  }
 },
 "nbformat": 4,
 "nbformat_minor": 2
}
